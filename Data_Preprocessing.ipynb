{
  "nbformat": 4,
  "nbformat_minor": 0,
  "metadata": {
    "colab": {
      "provenance": [],
      "authorship_tag": "ABX9TyPSrS4bS/pia/EtXy3jqGCQ",
      "include_colab_link": true
    },
    "kernelspec": {
      "name": "python3",
      "display_name": "Python 3"
    },
    "language_info": {
      "name": "python"
    }
  },
  "cells": [
    {
      "cell_type": "markdown",
      "metadata": {
        "id": "view-in-github",
        "colab_type": "text"
      },
      "source": [
        "<a href=\"https://colab.research.google.com/github/Raghav2608/5CCSAMLF-CW_1/blob/main/Data_Preprocessing.ipynb\" target=\"_parent\"><img src=\"https://colab.research.google.com/assets/colab-badge.svg\" alt=\"Open In Colab\"/></a>"
      ]
    },
    {
      "cell_type": "code",
      "source": [
        "import torch\n",
        "import torch.nn as nn\n",
        "import torch.optim as optim\n",
        "from torch.utils.data import DataLoader, TensorDataset"
      ],
      "metadata": {
        "id": "vrmgzHF1Dwap"
      },
      "execution_count": 1,
      "outputs": []
    },
    {
      "cell_type": "code",
      "source": [
        "from sklearn.datasets import load_diabetes\n",
        "from sklearn.model_selection import train_test_split\n",
        "from sklearn.preprocessing import StandardScaler\n",
        "import pandas as pd\n",
        "\n"
      ],
      "metadata": {
        "id": "n-bft2MoDz-b"
      },
      "execution_count": null,
      "outputs": []
    },
    {
      "cell_type": "code",
      "execution_count": null,
      "metadata": {
        "id": "QEnPAk1RsDCX"
      },
      "outputs": [],
      "source": [
        "\n",
        "\n",
        "\n",
        "# 2. Wrap data into a Dataset and DataLoader\n",
        "dataset = TensorDataset(X, y)\n",
        "train_loader = DataLoader(dataset, batch_size=16, shuffle=True)\n",
        "\n",
        "# 3. Define your neural network architecture\n",
        "class MyNetwork(nn.Module):\n",
        "    def __init__(self):\n",
        "        super().__init__()\n",
        "        self.linear_relu_stack = nn.Sequential(\n",
        "            nn.Linear(9, 7),\n",
        "            nn.ReLU(),\n",
        "            nn.Linear(7, 5),\n",
        "            nn.ReLU(),\n",
        "            nn.Linear(5, 1),\n",
        "        )\n",
        "\n",
        "    def forward(self, x):\n",
        "        logits = self.linear_relu_stack(x)\n",
        "        return logits\n",
        "\n",
        "# 4. Instantiate the model, define loss function and optimizer\n",
        "model = MyNetwork()\n",
        "criterion = nn.MSELoss()              # For a regression task\n",
        "optimizer = optim.Adam(model.parameters(), lr=1e-3)\n",
        "\n",
        "# 5. Training loop\n",
        "num_epochs = 10\n",
        "\n",
        "for epoch in range(num_epochs):\n",
        "    model.train()  # Put model in training mode (important if you have dropout/batchnorm)\n",
        "    running_loss = 0.0\n",
        "\n",
        "    for batch_X, batch_y in train_loader:\n",
        "        # 5a. Zero the parameter gradients\n",
        "        optimizer.zero_grad()\n",
        "\n",
        "        # 5b. Forward pass\n",
        "        predictions = model(batch_X)  # shape: (batch_size, 1)\n",
        "\n",
        "        # 5c. Compute loss\n",
        "        loss = criterion(predictions, batch_y)\n",
        "\n",
        "        # 5d. Backward pass and update\n",
        "        loss.backward()\n",
        "        optimizer.step()\n",
        "\n",
        "        running_loss += loss.item()\n",
        "\n",
        "    # Print average loss per epoch\n",
        "    epoch_loss = running_loss / len(train_loader)\n",
        "    print(f\"Epoch [{epoch+1}/{num_epochs}], Loss: {epoch_loss:.4f}\")\n",
        "\n",
        "print(\"Training complete.\")\n"
      ]
    }
  ]
}