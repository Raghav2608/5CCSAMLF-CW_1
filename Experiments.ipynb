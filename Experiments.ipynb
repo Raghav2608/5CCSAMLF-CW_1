{
  "cells": [
    {
      "cell_type": "markdown",
      "metadata": {
        "colab_type": "text",
        "id": "view-in-github"
      },
      "source": [
        "<a href=\"https://colab.research.google.com/github/Raghav2608/5CCSAMLF-CW_1/blob/main/Data_Preprocessing.ipynb\" target=\"_parent\"><img src=\"https://colab.research.google.com/assets/colab-badge.svg\" alt=\"Open In Colab\"/></a>"
      ]
    },
    {
      "cell_type": "code",
      "execution_count": 1,
      "metadata": {
        "id": "QEnPAk1RsDCX"
      },
      "outputs": [],
      "source": [
        "import pandas as pd\n",
        "from sklearn.preprocessing import LabelEncoder\n",
        "from sklearn.model_selection import train_test_split,KFold\n",
        "from sklearn.metrics import r2_score,root_mean_squared_error\n",
        "import matplotlib.pyplot as plt\n",
        "from sklearn.ensemble import RandomForestRegressor\n",
        "from sklearn.feature_selection import SelectFromModel,r_regression\n",
        "from xgboost import XGBRegressor\n",
        "from sklearn.kernel_ridge import KernelRidge\n",
        "from lightgbm import LGBMRegressor\n",
        "from GradientBagging import BaggedGradientBoosting,AdaptiveBaggingGBT\n",
        "from kernelbagging import BaggedKernelRidge\n",
        "from sklearn.linear_model import LinearRegression"
      ]
    },
    {
      "cell_type": "code",
      "execution_count": 2,
      "metadata": {},
      "outputs": [],
      "source": [
        "data = pd.read_csv(\"CW1_train.csv\")"
      ]
    },
    {
      "cell_type": "code",
      "execution_count": null,
      "metadata": {},
      "outputs": [
        {
          "data": {
            "text/plain": [
              "[]"
            ]
          },
          "execution_count": 8,
          "metadata": {},
          "output_type": "execute_result"
        },
        {
          "data": {
            "image/png": "[encoded data removed]",
            "text/plain": [
              "<Figure size 640x480 with 1 Axes>"
            ]
          },
          "metadata": {},
          "output_type": "display_data"
        }
      ],
      "source": [
        "#generates Histogram Plots for each feature \n",
        "\n",
        "for count, value in enumerate(data.columns):\n",
        "    plt.hist(data[value],density=True,bins=100)\n",
        "    plt.title(value)\n",
        "    x_min = min(data[value])\n",
        "    x_max = max(data[value])\n",
        "    if isinstance(data[value].iloc[0],str):\n",
        "        plt.savefig(f\"plots/distribution_plot_{value}.png\")\n",
        "        plt.clf()\n",
        "        \n",
        "    else:\n",
        "        plt.xlim([x_min - 0.2*x_min,x_max + 0.2*x_max])\n",
        "        plt.savefig(f\"plots/distribution_plot_{value}.png\")\n",
        "        plt.clf()\n",
        "\n"
      ]
    },
    {
      "cell_type": "code",
      "execution_count": null,
      "metadata": {},
      "outputs": [],
      "source": [
        "#mean of every feature\n",
        "data.mean()"
      ]
    },
    {
      "cell_type": "code",
      "execution_count": null,
      "metadata": {},
      "outputs": [],
      "source": [
        "#standard deviation of every feature\n",
        "data.std()"
      ]
    },
    {
      "cell_type": "code",
      "execution_count": 3,
      "metadata": {},
      "outputs": [],
      "source": [
        "# using label encoder to encode categorical variables \n",
        "\n",
        "le1 = LabelEncoder()\n",
        "le2 = LabelEncoder()\n",
        "le3 = LabelEncoder()\n",
        "\n",
        "data[\"cut\"] = le1.fit_transform(data.cut.values)\n",
        "data[\"color\"] = le2.fit_transform(data.color.values)\n",
        "data[\"clarity\"] = le3.fit_transform(data.clarity.values)"
      ]
    },
    {
      "cell_type": "code",
      "execution_count": null,
      "metadata": {},
      "outputs": [],
      "source": [
        "#plots of each individual feature with outcome \n",
        "figure, axis = plt.subplots(31,1,figsize = (8,31*4),tight_layout=True)\n",
        "\n",
        "for count, value in enumerate(data.columns):\n",
        "    axis[count].scatter(data[value],data[\"outcome\"])\n",
        "    axis[count].set_title(value)\n",
        "    \n",
        "plt.savefig(\"Feature_with_outcome_Plots.png\")\n",
        "plt.show()\n"
      ]
    },
    {
      "cell_type": "code",
      "execution_count": 7,
      "metadata": {},
      "outputs": [],
      "source": [
        "#creating lower dimensional subset and normalizing X values\n",
        "low_dim_data = data[[\"depth\",\"a1\",\"a2\",\"a3\",\"a4\",\"a5\",\"b1\",\"b3\",\"price\",\"table\"]]\n",
        "low_dim_data = (low_dim_data-low_dim_data.mean())/low_dim_data.std()\n",
        "output = data[\"outcome\"]\n"
      ]
    },
    {
      "cell_type": "code",
      "execution_count": null,
      "metadata": {},
      "outputs": [],
      "source": [
        "print(output.head())\n",
        "print(low_dim_data.head())"
      ]
    },
    {
      "cell_type": "code",
      "execution_count": 6,
      "metadata": {},
      "outputs": [],
      "source": [
        "X_train_t, X_test_t, y_train_t, y_test_t = train_test_split(low_dim_data,\n",
        "    output, test_size=0.1, random_state=42)"
      ]
    },
    {
      "cell_type": "code",
      "execution_count": null,
      "metadata": {},
      "outputs": [],
      "source": [
        "import numpy as np \n",
        "kf = KFold(n_splits=10, shuffle=True, random_state=42)\n",
        "\n",
        "# Initialize the model\n",
        "model =  XGBRegressor(n_estimators=2000,max_depth=3,max_bin=100,reg_alpha=100,\n",
        "                      booster=\"gbtree\",tree_method=\"hist\",grow_policy=\"lossguide\",\n",
        "                      eta=0.007,subsample=0.8)\n",
        "\n",
        "\n",
        "# Store accuracies\n",
        "accuracies = []\n",
        "train_accuracies = []\n",
        "train_variance = []\n",
        "test_variance = []\n",
        "train_subsets = None\n",
        "test_subsets = None\n",
        "\n",
        "X = low_dim_data.to_numpy()\n",
        "y = output.to_numpy()\n",
        "rmse_data = []\n",
        "i = 0\n",
        "# Perform K-Fold Cross-Validation\n",
        "for train_index, test_index in kf.split(X):\n",
        "    X_train, X_test = X[train_index], X[test_index]\n",
        "    y_train, y_test = y[train_index], y[test_index]\n",
        "\n",
        "    # Train the model\n",
        "    model.fit(X_train, \n",
        "    y_train,\n",
        "    eval_set=[(X_test, y_test)],\n",
        "    verbose=True\n",
        "    )\n",
        "\n",
        "    train_variance.append(y_train.std())\n",
        "    test_variance.append(y_test.std())\n",
        "\n",
        "    # Predict\n",
        "    y_pred_train = model.predict(X_train)\n",
        "    y_pred = model.predict(X_test)\n",
        "\n",
        "    rmse_data.append(root_mean_squared_error(y_test,y_pred))\n",
        "    \n",
        "\n",
        "    i = i + 1\n",
        "    # Evaluate\n",
        "\n",
        "    acc = r2_score(y_test, y_pred)\n",
        "    accuracies.append(acc)\n",
        "    \n",
        "\n",
        "# Print the average accuracy\n",
        "\n",
        "print(f\"Average Accuracy: {np.mean(accuracies):.4f}\")\n",
        "print(accuracies)\n",
        "print()\n",
        "print(f\"Average Accuracy: {np.mean(train_accuracies):.4f}\")\n",
        "print(train_accuracies)\n",
        "print(f\"Average Accuracy: {np.mean(rmse_data):.4f}\")\n",
        "print(rmse_data)"
      ]
    },
    {
      "cell_type": "code",
      "execution_count": null,
      "metadata": {},
      "outputs": [
        {
          "name": "stdout",
          "output_type": "stream",
          "text": [
            "Average test Accuracy: 0.4238\n",
            "[0.4069414170881184, 0.4520225795166647, 0.42470327917306516, 0.4193625677087889, 0.41597556072791253]\n",
            "\n",
            "Average train Accuracy: 0.5452\n",
            "[0.5495978683162677, 0.5401740384606681, 0.5448106446230345, 0.546434198544868, 0.5451633314965812]\n"
          ]
        }
      ],
      "source": [
        "import numpy as np \n",
        "kf = KFold(n_splits=5, shuffle=True, random_state=42)\n",
        "\n",
        "# Initialize the model\n",
        "model = BaggedKernelRidge(n=10,sample_fraction=0.8,kernel=\"laplacian\",degree =4 ,gamma=0.1)\n",
        "\n",
        "# Store accuracies\n",
        "accuracies = []\n",
        "train_accuracies = []\n",
        "train_variance = []\n",
        "test_variance = []\n",
        "train_subsets = None\n",
        "test_subsets = None\n",
        "\n",
        "X = low_dim_data.to_numpy()\n",
        "y = output.to_numpy()\n",
        "rmse_data = []\n",
        "i = 0\n",
        "# Perform K-Fold Cross-Validation\n",
        "for train_index, test_index in kf.split(X):\n",
        "    X_train, X_test = X[train_index], X[test_index]\n",
        "    y_train, y_test = y[train_index], y[test_index]\n",
        "\n",
        "    # Train the model\n",
        "    model.fit(X_train, \n",
        "    y_train\n",
        "    )\n",
        "\n",
        "    train_variance.append(y_train.std())\n",
        "    test_variance.append(y_test.std())\n",
        "\n",
        "    # Predict\n",
        "    y_pred_train = model.predict(X_train)\n",
        "    y_pred = model.predict(X_test)\n",
        "\n",
        "    rmse_data.append(root_mean_squared_error(y_test,y_pred))\n",
        "    \n",
        "\n",
        "    \n",
        "    # Evaluate\n",
        "    train_accuracies.append(r2_score(y_train,y_pred_train))\n",
        "    acc = r2_score(y_test, y_pred)\n",
        "    accuracies.append(acc)\n",
        "    \n",
        "\n",
        "# Print the average accuracy\n",
        "\n",
        "print(f\"Average test Accuracy: {np.mean(accuracies):.4f}\")\n",
        "print(accuracies)\n",
        "print()\n",
        "print(f\"Average train Accuracy: {np.mean(train_accuracies):.4f}\")\n",
        "print(train_accuracies)\n"
      ]
    },
    {
      "cell_type": "code",
      "execution_count": null,
      "metadata": {},
      "outputs": [
        {
          "name": "stdout",
          "output_type": "stream",
          "text": [
            "Average Accuracy: 0.4792\n",
            "[0.4612007497819606, 0.47021816140466155, 0.5311889500226474, 0.4997408046709606, 0.46915390189744055, 0.47566079733233657, 0.4505727963127295, 0.503324572367715, 0.4669763989057837, 0.4644561350887104]\n",
            "\n",
            "Average Accuracy: 0.5205\n",
            "[0.5228947187998301, 0.5216660410905062, 0.5147056140680981, 0.518460463743255, 0.5211612103898473, 0.5209435207076615, 0.523891212572611, 0.517764435247138, 0.5222433430749589, 0.5217077072760451]\n",
            "\n",
            "Average Accuracy: 9.1691\n",
            "[np.float64(9.243247847014796), np.float64(9.416230090800767), np.float64(9.107229708398716), np.float64(8.90811320353094), np.float64(9.251155588048835), np.float64(9.371073173147728), np.float64(9.22369779239022), np.float64(8.823888020883482), np.float64(9.16922249637101), np.float64(9.177033543745985)]\n"
          ]
        }
      ],
      "source": [
        "import numpy as np \n",
        "kf = KFold(n_splits=10, shuffle=True, random_state=42)\n",
        "\n",
        "model =  BaggedGradientBoosting(n=25,sample_fraction=0.90,seed=40,n_estimators=2000,max_depth=3,max_bin=100,reg_alpha=100,\n",
        "                      booster=\"gbtree\",tree_method=\"hist\",grow_policy=\"lossguide\",\n",
        "                      eta=0.007,subsample=0.8)\n",
        "\n",
        "\n",
        "# Store accuracies\n",
        "accuracies = []\n",
        "train_accuracies = [] \n",
        "train_variance = []\n",
        "test_variance = []\n",
        "train_subsets = None\n",
        "test_subsets = None\n",
        "\n",
        "X = low_dim_data.to_numpy()\n",
        "y = output.to_numpy()\n",
        "rmse_data = []\n",
        "i = 0\n",
        "# Perform K-Fold Cross-Validation\n",
        "for train_index, test_index in kf.split(X):\n",
        "    X_train, X_test = X[train_index], X[test_index]\n",
        "    y_train, y_test = y[train_index], y[test_index]\n",
        "\n",
        "    # Train the model\n",
        "    model.fit(X_train, \n",
        "    y_train\n",
        "    )\n",
        "\n",
        "    train_variance.append(y_train.std())\n",
        "    test_variance.append(y_test.std())\n",
        "\n",
        "    # Predict\n",
        "    y_pred_train = model.predict(X_train)\n",
        "    y_pred = model.predict(X_test)\n",
        "\n",
        "    rmse_data.append(root_mean_squared_error(y_test,y_pred))\n",
        "    \n",
        "\n",
        "\n",
        "    # Evaluate\n",
        "\n",
        "    acc = r2_score(y_test, y_pred)\n",
        "    accuracies.append(acc)\n",
        "\n",
        "    train_accuracies.append(r2_score(y_train,y_pred_train))\n",
        "    \n",
        "\n",
        "# Print the average accuracy\n",
        "\n",
        "print(f\"Average Accuracy: {np.mean(accuracies):.4f}\")\n",
        "print(accuracies)\n",
        "print()\n",
        "print(f\"Average Accuracy: {np.mean(train_accuracies):.4f}\")\n",
        "print(train_accuracies)\n",
        "print()\n",
        "print(f\"Average Accuracy: {np.mean(rmse_data):.4f}\")\n",
        "print(rmse_data)"
      ]
    },
    {
      "cell_type": "code",
      "execution_count": 9,
      "metadata": {},
      "outputs": [
        {
          "name": "stdout",
          "output_type": "stream",
          "text": [
            "Average Accuracy: 0.2856\n",
            "[0.26358512164647274, 0.2760327125535066, 0.3199517712985487, 0.3105845960501523, 0.2799516881196644, 0.26498668107329215, 0.2934505035781134, 0.2919861663822695, 0.2524952073030191, 0.3031346125226665]\n",
            "\n",
            "Average Accuracy: 0.2882\n",
            "[0.2907315492505369, 0.2893754746604674, 0.28407910578253115, 0.28545300282827546, 0.2887745104041173, 0.2906350371203563, 0.2873049625569165, 0.28765311129058824, 0.29184224735557185, 0.28630552968540823]\n",
            "\n",
            "Average Accuracy: 10.7431\n",
            "[np.float64(10.806184646407944), np.float64(11.00748242154556), np.float64(10.968752266256168), np.float64(10.457519394369397), np.float64(10.774384963213313), np.float64(11.095088450796352), np.float64(10.459749443204458), np.float64(10.535242157746902), np.float64(10.858411161461369), np.float64(10.468374285068103)]\n"
          ]
        }
      ],
      "source": [
        "import numpy as np \n",
        "kf = KFold(n_splits=10, shuffle=True, random_state=42)\n",
        "\n",
        "model =  LinearRegression()\n",
        "\n",
        "# Store accuracies\n",
        "accuracies = []\n",
        "train_accuracies = [] \n",
        "train_variance = []\n",
        "test_variance = []\n",
        "train_subsets = None\n",
        "test_subsets = None\n",
        "\n",
        "X = low_dim_data.to_numpy()\n",
        "y = output.to_numpy()\n",
        "rmse_data = []\n",
        "i = 0\n",
        "# Perform K-Fold Cross-Validation\n",
        "for train_index, test_index in kf.split(X):\n",
        "    X_train, X_test = X[train_index], X[test_index]\n",
        "    y_train, y_test = y[train_index], y[test_index]\n",
        "\n",
        "    # Train the model\n",
        "    model.fit(X_train, \n",
        "    y_train\n",
        "    )\n",
        "\n",
        "    train_variance.append(y_train.std())\n",
        "    test_variance.append(y_test.std())\n",
        "\n",
        "    # Predict\n",
        "    y_pred_train = model.predict(X_train)\n",
        "    y_pred = model.predict(X_test)\n",
        "\n",
        "    rmse_data.append(root_mean_squared_error(y_test,y_pred))\n",
        "    \n",
        "\n",
        "\n",
        "    # Evaluate\n",
        "\n",
        "    acc = r2_score(y_test, y_pred)\n",
        "    accuracies.append(acc)\n",
        "\n",
        "    train_accuracies.append(r2_score(y_train,y_pred_train))\n",
        "    \n",
        "\n",
        "# Print the average accuracy\n",
        "\n",
        "print(f\"Average Accuracy: {np.mean(accuracies):.4f}\")\n",
        "print(accuracies)\n",
        "print()\n",
        "print(f\"Average Accuracy: {np.mean(train_accuracies):.4f}\")\n",
        "print(train_accuracies)\n",
        "print()\n",
        "print(f\"Average Accuracy: {np.mean(rmse_data):.4f}\")\n",
        "print(rmse_data)"
      ]
    },
    {
      "cell_type": "code",
      "execution_count": null,
      "metadata": {},
      "outputs": [
        {
          "data": {
            "image/png": "[encoded data removed]",
            "text/plain": [
              "<Figure size 640x480 with 1 Axes>"
            ]
          },
          "metadata": {},
          "output_type": "display_data"
        }
      ],
      "source": [
        "plt.scatter(accuracies,train_accuracies)\n",
        "plt.xlabel(\"train r2 score\")\n",
        "plt.ylabel(\"test r2 score\")\n",
        "plt.title(\"train r2 score vs test r2 score\")\n",
        "#plt.savefig(\"train_vs_test_r2.png\")\n",
        "plt.show()\n",
        "\n"
      ]
    },
    {
      "cell_type": "code",
      "execution_count": 111,
      "metadata": {},
      "outputs": [
        {
          "data": {
            "image/png": "[encoded data removed]",
            "text/plain": [
              "<Figure size 640x480 with 1 Axes>"
            ]
          },
          "metadata": {},
          "output_type": "display_data"
        }
      ],
      "source": [
        "plt.scatter(accuracies,rmse_data)\n",
        "plt.xlabel(\"test r2 score\")\n",
        "plt.ylabel(\"test rmse score\")\n",
        "plt.title(\"test r2 vs test rmse \")\n",
        "plt.savefig(\"r2_v_rmse_.png\")\n",
        "plt.show()"
      ]
    },
    {
      "cell_type": "code",
      "execution_count": 102,
      "metadata": {},
      "outputs": [],
      "source": [
        "model =  BaggedGradientBoosting(n=25,sample_fraction=1,seed=40,n_estimators=2000,max_depth=3,max_bin=100,reg_alpha=100,\n",
        "                      booster=\"gbtree\",tree_method=\"hist\",grow_policy=\"lossguide\",\n",
        "                      eta=0.007,subsample=0.8)\n",
        "model.fit(low_dim_data.values,output.values)\n"
      ]
    },
    {
      "cell_type": "code",
      "execution_count": 103,
      "metadata": {},
      "outputs": [
        {
          "data": {
            "text/plain": [
              "0.5188796710568344"
            ]
          },
          "execution_count": 103,
          "metadata": {},
          "output_type": "execute_result"
        }
      ],
      "source": [
        "r2_score(output.values,model.predict(low_dim_data.values))"
      ]
    },
    {
      "cell_type": "code",
      "execution_count": 100,
      "metadata": {},
      "outputs": [],
      "source": [
        "test_data = pd.read_csv(\"CW1_test.csv\")\n",
        "test_x = test_data[[\"depth\",\"a1\",\"a2\",\"a3\",\"a4\",\"a5\",\"b1\",\"b3\",\"price\",\"table\"]]\n",
        "test_x = (test_x-test_x.mean())/test_x.std()\n",
        "preds = model.predict(test_x.values)\n",
        "out = pd.DataFrame({\"yhat\":preds})\n",
        "out.to_csv(\"CW1_submission_K23098128.csv\",index=False)"
      ]
    },
    {
      "cell_type": "code",
      "execution_count": null,
      "metadata": {},
      "outputs": [
        {
          "name": "stdout",
          "output_type": "stream",
          "text": [
            "Average Accuracy: 0.4797\n",
            "[0.46115213656167475, 0.46975494458668643, 0.530578744500908, 0.5002022258703931, 0.4678288455318742, 0.4775399662026385, 0.4513860283410215, 0.5027962375005971, 0.46924533999519025, 0.46687778990716267]\n",
            "\n",
            "Average Accuracy: 0.5215\n",
            "[0.5240402919133209, 0.5227694439243067, 0.515793094197037, 0.5195159328747972, 0.5226488838603041, 0.5220134775718408, 0.5247694375541043, 0.5185045755068427, 0.522200503285163, 0.5232221796726697]\n"
          ]
        }
      ],
      "source": [
        "import numpy as np \n",
        "kf = KFold(n_splits=10, shuffle=True, random_state=42)\n",
        "\n",
        "#n_estimators=200,eta=0.08,grow_policy=\"lossguide\",subsample=0.8,colsample_bynode=0.8\n",
        "# Initialize the model\n",
        "gb_params = {\"n_estimators\":200,\n",
        "             \"eta\":0.8,\n",
        "             \"subsample\":0.8,\n",
        "             \"colsample_bynode\":0.8\n",
        "            }\n",
        "\n",
        "\n",
        "model =  AdaptiveBaggingGBT(n=25,sample_fraction=1,test_size=0.01,alpha=0.05,n_estimators=2000,max_depth=3,max_bin=100,reg_alpha=100,\n",
        "                      booster=\"gbtree\",tree_method=\"hist\",grow_policy=\"lossguide\",\n",
        "                      eta=0.007,subsample=0.8)\n",
        "\n",
        "\n",
        "# Store accuracies\n",
        "accuracies = []\n",
        "train_accuracies = [] \n",
        "train_variance = []\n",
        "test_variance = []\n",
        "train_subsets = None\n",
        "test_subsets = None\n",
        "\n",
        "X = low_dim_data.to_numpy()\n",
        "y = output.to_numpy()\n",
        "rmse_data = []\n",
        "i = 0\n",
        "# Perform K-Fold Cross-Validation\n",
        "for train_index, test_index in kf.split(X):\n",
        "    X_train, X_test = X[train_index], X[test_index]\n",
        "    y_train, y_test = y[train_index], y[test_index]\n",
        "\n",
        "    # Train the model\n",
        "    model.fit(X_train, \n",
        "    y_train\n",
        "    )\n",
        "\n",
        "    train_variance.append(y_train.std())\n",
        "    test_variance.append(y_test.std())\n",
        "\n",
        "    # Predict\n",
        "    y_pred_train = model.predict(X_train)\n",
        "    y_pred = model.predict(X_test)\n",
        "\n",
        "    rmse_data.append(root_mean_squared_error(y_test,y_pred))\n",
        "    \n",
        "\n",
        "\n",
        "    # Evaluate\n",
        "\n",
        "    acc = r2_score(y_test, y_pred)\n",
        "    accuracies.append(acc)\n",
        "\n",
        "    train_accuracies.append(r2_score(y_train,y_pred_train))\n",
        "    \n",
        "\n",
        "# Print the average accuracy\n",
        "\n",
        "print(f\"Average Accuracy: {np.mean(accuracies):.4f}\")\n",
        "print(accuracies)\n",
        "print()\n",
        "print(f\"Average Accuracy: {np.mean(train_accuracies):.4f}\")\n",
        "print(train_accuracies)"
      ]
    },
    {
      "cell_type": "code",
      "execution_count": null,
      "metadata": {},
      "outputs": [
        {
          "name": "stdout",
          "output_type": "stream",
          "text": [
            "Average Accuracy: 0.4580\n",
            "[0.433362616253932, 0.4482770395210517, 0.5083006533291807, 0.48015905488985433, 0.4483965816944867, 0.45581365022730436, 0.41605205497469866, 0.4886482665630276, 0.4500452026999032, 0.451220979232712]\n",
            "\n",
            "Average Accuracy: 0.5482\n",
            "[0.5505407428162528, 0.5507061661575092, 0.5424434080840987, 0.5464598902034852, 0.549397694663336, 0.5497932187692935, 0.552047777971614, 0.5452335495239657, 0.5485530583643621, 0.5468892487156177]\n"
          ]
        }
      ],
      "source": [
        "import numpy as np \n",
        "kf = KFold(n_splits=10, shuffle=True, random_state=42)\n",
        "\n",
        "#n_estimators=200,eta=0.08,grow_policy=\"lossguide\",subsample=0.8,colsample_bynode=0.8\n",
        "# Initialize the model\n",
        "gb_params = {\"n_estimators\":200,\n",
        "             \"eta\":0.8,\n",
        "             \"subsample\":0.8,\n",
        "             \"colsample_bynode\":0.8\n",
        "            }\n",
        "\n",
        "model =  RandomForestRegressor(n_estimators=100,max_depth=6)\n",
        "\n",
        "\n",
        "# Store accuracies\n",
        "accuracies = []\n",
        "train_accuracies = [] \n",
        "train_variance = []\n",
        "test_variance = []\n",
        "train_subsets = None\n",
        "test_subsets = None\n",
        "\n",
        "X = low_dim_data.to_numpy()\n",
        "y = output.to_numpy()\n",
        "rmse_data = []\n",
        "i = 0\n",
        "# Perform K-Fold Cross-Validation\n",
        "for train_index, test_index in kf.split(X):\n",
        "    X_train, X_test = X[train_index], X[test_index]\n",
        "    y_train, y_test = y[train_index], y[test_index]\n",
        "\n",
        "    # Train the model\n",
        "    model.fit(X_train, \n",
        "    y_train\n",
        "    )\n",
        "\n",
        "    train_variance.append(y_train.std())\n",
        "    test_variance.append(y_test.std())\n",
        "\n",
        "    # Predict\n",
        "    y_pred_train = model.predict(X_train)\n",
        "    y_pred = model.predict(X_test)\n",
        "\n",
        "    rmse_data.append(root_mean_squared_error(y_test,y_pred))\n",
        "    \n",
        "\n",
        "\n",
        "    # Evaluate\n",
        "\n",
        "    acc = r2_score(y_test, y_pred)\n",
        "    accuracies.append(acc)\n",
        "\n",
        "    train_accuracies.append(r2_score(y_train,y_pred_train))\n",
        "    \n",
        "\n",
        "# Print the average accuracy\n",
        "\n",
        "print(f\"Average Accuracy: {np.mean(accuracies):.4f}\")\n",
        "print(accuracies)\n",
        "print()\n",
        "print(f\"Average Accuracy: {np.mean(train_accuracies):.4f}\")\n",
        "print(train_accuracies)"
      ]
    },
    {
      "cell_type": "code",
      "execution_count": 10,
      "metadata": {},
      "outputs": [
        {
          "data": {
            "text/plain": [
              "array([0.07314986, 0.07005703, 0.12506386, 0.15405786, 0.06261039,\n",
              "       0.05448192, 0.10188373, 0.18406377, 0.069875  , 0.10475656])"
            ]
          },
          "execution_count": 10,
          "metadata": {},
          "output_type": "execute_result"
        }
      ],
      "source": [
        "model.weights"
      ]
    },
    {
      "cell_type": "code",
      "execution_count": 8,
      "metadata": {},
      "outputs": [
        {
          "data": {
            "text/plain": [
              "10"
            ]
          },
          "execution_count": 8,
          "metadata": {},
          "output_type": "execute_result"
        }
      ],
      "source": [
        "model.n"
      ]
    },
    {
      "cell_type": "code",
      "execution_count": 87,
      "metadata": {},
      "outputs": [],
      "source": [
        "train_variance = np.array(train_variance)**2"
      ]
    },
    {
      "cell_type": "code",
      "execution_count": 322,
      "metadata": {},
      "outputs": [
        {
          "data": {
            "image/png": "[encoded data removed]",
            "text/plain": [
              "<Figure size 640x480 with 1 Axes>"
            ]
          },
          "metadata": {},
          "output_type": "display_data"
        }
      ],
      "source": [
        "plt.scatter(rmse_data,accuracies)\n",
        "plt.show()"
      ]
    },
    {
      "cell_type": "code",
      "execution_count": null,
      "metadata": {},
      "outputs": [
        {
          "data": {
            "text/plain": [
              "0.4399636244989874"
            ]
          },
          "execution_count": 42,
          "metadata": {},
          "output_type": "execute_result"
        }
      ],
      "source": [
        "kernel_model = KernelRidge(kernel=\"laplacian\",degree = 3,gamma=0.01)\n",
        "kernel_model.fit(X_train_t,y_train_t)\n",
        "r2_score(y_test_t,kernel_model.predict(X_test_t))"
      ]
    },
    {
      "cell_type": "code",
      "execution_count": 321,
      "metadata": {},
      "outputs": [
        {
          "name": "stdout",
          "output_type": "stream",
          "text": [
            "0.44222570313857856\n",
            "0.6571280246889513\n",
            "9.404600583557693\n"
          ]
        }
      ],
      "source": [
        "X = X_train_t.values\n",
        "y = y_train_t.values\n",
        "test_x = X_test_t.values\n",
        "test_y = y_test_t.values\n",
        "\n",
        "model2 = LGBMRegressor(n_estimators=100)\n",
        "model2.fit(X, \n",
        "    y\n",
        ")\n",
        "\n",
        "y_pred = model2.predict(test_x)\n",
        "rmse = root_mean_squared_error(test_y,y_pred)\n",
        "act = r2_score(y,model2.predict(X))\n",
        "acc = r2_score(test_y, y_pred)\n",
        "print(acc)\n",
        "print(act)\n",
        "print(rmse)"
      ]
    },
    {
      "cell_type": "code",
      "execution_count": 334,
      "metadata": {},
      "outputs": [
        {
          "name": "stdout",
          "output_type": "stream",
          "text": [
            "0.458662587069226\n",
            "0.5208659930082229\n",
            "9.264993703365102\n"
          ]
        }
      ],
      "source": [
        "X = X_train_t.values\n",
        "y = y_train_t.values\n",
        "test_x = X_test_t.values\n",
        "test_y = y_test_t.values\n",
        "\n",
        "'''\n",
        "XGBRegressor(n_estimators=1200,max_depth=3,max_bin=70,reg_alpha=100,\n",
        "                      booster=\"gbtree\",tree_method=\"hist\",grow_policy=\"lossguide\",\n",
        "                      eta=0.007,subsample=0.8,colsample_bynode=0.8)\n",
        "'''\n",
        "model2 = BaggedGradientBoosting(n=20,n_estimators=500,max_depth=3,eta=0.01,grow_policy=\"lossguide\",subsample=0.8,colsample_bynode=0.8)\n",
        "model2.fit(X,y)\n",
        "\n",
        "\n",
        "y_pred = model2.predict(test_x)\n",
        "rmse = root_mean_squared_error(test_y,y_pred)\n",
        "act = r2_score(y,model2.predict(X))\n",
        "acc = r2_score(test_y, y_pred)\n",
        "print(acc)\n",
        "print(act)\n",
        "print(rmse)\n"
      ]
    },
    {
      "cell_type": "code",
      "execution_count": 336,
      "metadata": {},
      "outputs": [
        {
          "name": "stdout",
          "output_type": "stream",
          "text": [
            "0.45464402375912194\n",
            "0.5079384602823305\n",
            "9.299318988515116\n"
          ]
        }
      ],
      "source": [
        "X = X_train_t.values\n",
        "y = y_train_t.values\n",
        "test_x = X_test_t.values\n",
        "test_y = y_test_t.values\n",
        "\n",
        "'''\n",
        "XGBRegressor(n_estimators=1200,max_depth=3,max_bin=70,reg_alpha=100,\n",
        "                      booster=\"gbtree\",tree_method=\"hist\",grow_policy=\"lossguide\",\n",
        "                      eta=0.007,subsample=0.8,colsample_bynode=0.8)\n",
        "'''\n",
        "model2 = XGBRegressor(n_estimators=1200,max_depth=3,max_bin=70,reg_alpha=100,\n",
        "                      booster=\"gbtree\",tree_method=\"hist\",grow_policy=\"lossguide\",\n",
        "                      eta=0.007,subsample=0.8,colsample_bynode=0.8)\n",
        "model2.fit(X,y)\n",
        "\n",
        "\n",
        "y_pred = model2.predict(test_x)\n",
        "rmse = root_mean_squared_error(test_y,y_pred)\n",
        "act = r2_score(y,model2.predict(X))\n",
        "acc = r2_score(test_y, y_pred)\n",
        "print(acc)\n",
        "print(act)\n",
        "print(rmse)\n"
      ]
    },
    {
      "cell_type": "code",
      "execution_count": 324,
      "metadata": {},
      "outputs": [
        {
          "name": "stdout",
          "output_type": "stream",
          "text": [
            "0.4578121578381884\n",
            "0.5223089925264673\n",
            "9.272268398582709\n"
          ]
        }
      ],
      "source": [
        "\n",
        "X = X_train_t.values\n",
        "y = y_train_t.values\n",
        "test_x = X_test_t.values\n",
        "test_y = y_test_t.values\n",
        "\n",
        "model2 = LGBMRegressor(n_estimators=700,max_depth=3,num_leaves=20,reg_alpha=300,learning_rate=0.04)\n",
        "model2.fit(X,y)\n",
        "\n",
        "\n",
        "y_pred = model2.predict(test_x)\n",
        "rmse = root_mean_squared_error(test_y,y_pred)\n",
        "act = r2_score(y,model2.predict(X))\n",
        "acc = r2_score(test_y, y_pred)\n",
        "print(acc)\n",
        "print(act)\n",
        "print(rmse)"
      ]
    },
    {
      "cell_type": "code",
      "execution_count": 298,
      "metadata": {},
      "outputs": [
        {
          "name": "stdout",
          "output_type": "stream",
          "text": [
            "Average Accuracy: 0.4752\n",
            "[0.45807247755912517, 0.46636000404552147, 0.5271880447998634, 0.4943817832274544, 0.463364889590301, 0.4725725156267163, 0.4460958010877675, 0.501206560174566, 0.4629437002564015, 0.4599353691869781]\n",
            "\n",
            "Average Accuracy: nan\n",
            "[]\n",
            "Average rmse: 9.2046\n"
          ]
        },
        {
          "name": "stderr",
          "output_type": "stream",
          "text": [
            "c:\\Users\\HP\\OneDrive\\Documents\\GitHub\\5CCSAMLF-CW_1\\.venv\\lib\\site-packages\\numpy\\_core\\fromnumeric.py:3596: RuntimeWarning: Mean of empty slice.\n",
            "  return _methods._mean(a, axis=axis, dtype=dtype,\n",
            "c:\\Users\\HP\\OneDrive\\Documents\\GitHub\\5CCSAMLF-CW_1\\.venv\\lib\\site-packages\\numpy\\_core\\_methods.py:138: RuntimeWarning: invalid value encountered in scalar divide\n",
            "  ret = ret.dtype.type(ret / rcount)\n"
          ]
        }
      ],
      "source": [
        "import numpy as np \n",
        "kf = KFold(n_splits=10, shuffle=True, random_state=42)\n",
        "\n",
        "# Initialize the model\n",
        "model = LGBMRegressor(n_estimators=700,max_depth=3,num_leaves=20,reg_alpha=300,learning_rate=0.04)\n",
        "\n",
        "# Store accuracies\n",
        "accuracies = []\n",
        "train_accuracies = []\n",
        "train_variance = []\n",
        "test_variance = []\n",
        "train_subsets = None\n",
        "test_subsets = None\n",
        "\n",
        "X = low_dim_data.to_numpy()\n",
        "y = output.to_numpy()\n",
        "rmse_data = []\n",
        "i = 0\n",
        "# Perform K-Fold Cross-Validation\n",
        "for train_index, test_index in kf.split(X):\n",
        "    X_train, X_test = X[train_index], X[test_index]\n",
        "    y_train, y_test = y[train_index], y[test_index]\n",
        "\n",
        "    # Train the model\n",
        "    model.fit(X_train, \n",
        "    y_train\n",
        "    )\n",
        "\n",
        "    train_variance.append(y_train.std())\n",
        "    test_variance.append(y_test.std())\n",
        "\n",
        "    # Predict\n",
        "    y_pred_train = model.predict(X_train)\n",
        "    y_pred = model.predict(X_test)\n",
        "\n",
        "    rmse_data.append(root_mean_squared_error(y_test,y_pred))\n",
        "    \n",
        "\n",
        "    i = i + 1\n",
        "    # Evaluate\n",
        "\n",
        "    acc = r2_score(y_test, y_pred)\n",
        "    accuracies.append(acc)\n",
        "    \n",
        "\n",
        "# Print the average accuracy\n",
        "\n",
        "print(f\"Average Accuracy: {np.mean(accuracies):.4f}\")\n",
        "print(accuracies)\n",
        "print()\n",
        "print(f\"Average Accuracy: {np.mean(train_accuracies):.4f}\")\n",
        "print(train_accuracies)\n",
        "print(f\"Average rmse: {np.mean(rmse_data):.4f}\")"
      ]
    },
    {
      "cell_type": "code",
      "execution_count": 320,
      "metadata": {},
      "outputs": [
        {
          "name": "stdout",
          "output_type": "stream",
          "text": [
            "8.332616554083243\n",
            "7.526534530618222\n"
          ]
        }
      ],
      "source": [
        "y_pred1 = model2.predict(test_x)\n",
        "y_pred2 = model.predict(test_x)\n",
        "print(root_mean_squared_error(test_y,y_pred1))\n",
        "print(root_mean_squared_error(test_y,y_pred2))\n"
      ]
    },
    {
      "cell_type": "code",
      "execution_count": 44,
      "metadata": {},
      "outputs": [],
      "source": [
        "data.iloc[train_subsets].to_csv(\"good_training.csv\")\n",
        "data.iloc[test_subsets].to_csv(\"good_test.csv\")"
      ]
    },
    {
      "cell_type": "code",
      "execution_count": 46,
      "metadata": {},
      "outputs": [
        {
          "data": {
            "image/png": "[encoded data removed]",
            "text/plain": [
              "<Figure size 640x480 with 1 Axes>"
            ]
          },
          "metadata": {},
          "output_type": "display_data"
        }
      ],
      "source": [
        "plt.scatter(y_test,model.predict(X_test))\n",
        "plt.show()"
      ]
    },
    {
      "cell_type": "code",
      "execution_count": 7,
      "metadata": {},
      "outputs": [
        {
          "ename": "KeyboardInterrupt",
          "evalue": "",
          "output_type": "error",
          "traceback": [
            "\u001b[1;31m---------------------------------------------------------------------------\u001b[0m",
            "\u001b[1;31mKeyboardInterrupt\u001b[0m                         Traceback (most recent call last)",
            "Cell \u001b[1;32mIn[7], line 2\u001b[0m\n\u001b[0;32m      1\u001b[0m rf2_model \u001b[38;5;241m=\u001b[39m RandomForestRegressor(n_estimators\u001b[38;5;241m=\u001b[39m\u001b[38;5;241m1000\u001b[39m,random_state\u001b[38;5;241m=\u001b[39m\u001b[38;5;241m42\u001b[39m,min_samples_leaf\u001b[38;5;241m=\u001b[39m\u001b[38;5;241m50\u001b[39m,min_samples_split\u001b[38;5;241m=\u001b[39m\u001b[38;5;241m10\u001b[39m)\n\u001b[1;32m----> 2\u001b[0m \u001b[43mrf2_model\u001b[49m\u001b[38;5;241;43m.\u001b[39;49m\u001b[43mfit\u001b[49m\u001b[43m(\u001b[49m\u001b[43mX_train\u001b[49m\u001b[43m,\u001b[49m\u001b[43my_train\u001b[49m\u001b[43m)\u001b[49m\n\u001b[0;32m      3\u001b[0m r2_score(y_test,rf2_model\u001b[38;5;241m.\u001b[39mpredict(X_test))\n",
            "File \u001b[1;32mc:\\Users\\HP\\OneDrive\\Documents\\GitHub\\5CCSAMLF-CW_1\\.venv\\lib\\site-packages\\sklearn\\base.py:1473\u001b[0m, in \u001b[0;36m_fit_context.<locals>.decorator.<locals>.wrapper\u001b[1;34m(estimator, *args, **kwargs)\u001b[0m\n\u001b[0;32m   1466\u001b[0m     estimator\u001b[38;5;241m.\u001b[39m_validate_params()\n\u001b[0;32m   1468\u001b[0m \u001b[38;5;28;01mwith\u001b[39;00m config_context(\n\u001b[0;32m   1469\u001b[0m     skip_parameter_validation\u001b[38;5;241m=\u001b[39m(\n\u001b[0;32m   1470\u001b[0m         prefer_skip_nested_validation \u001b[38;5;129;01mor\u001b[39;00m global_skip_validation\n\u001b[0;32m   1471\u001b[0m     )\n\u001b[0;32m   1472\u001b[0m ):\n\u001b[1;32m-> 1473\u001b[0m     \u001b[38;5;28;01mreturn\u001b[39;00m fit_method(estimator, \u001b[38;5;241m*\u001b[39margs, \u001b[38;5;241m*\u001b[39m\u001b[38;5;241m*\u001b[39mkwargs)\n",
            "File \u001b[1;32mc:\\Users\\HP\\OneDrive\\Documents\\GitHub\\5CCSAMLF-CW_1\\.venv\\lib\\site-packages\\sklearn\\ensemble\\_forest.py:489\u001b[0m, in \u001b[0;36mBaseForest.fit\u001b[1;34m(self, X, y, sample_weight)\u001b[0m\n\u001b[0;32m    478\u001b[0m trees \u001b[38;5;241m=\u001b[39m [\n\u001b[0;32m    479\u001b[0m     \u001b[38;5;28mself\u001b[39m\u001b[38;5;241m.\u001b[39m_make_estimator(append\u001b[38;5;241m=\u001b[39m\u001b[38;5;28;01mFalse\u001b[39;00m, random_state\u001b[38;5;241m=\u001b[39mrandom_state)\n\u001b[0;32m    480\u001b[0m     \u001b[38;5;28;01mfor\u001b[39;00m i \u001b[38;5;129;01min\u001b[39;00m \u001b[38;5;28mrange\u001b[39m(n_more_estimators)\n\u001b[0;32m    481\u001b[0m ]\n\u001b[0;32m    483\u001b[0m \u001b[38;5;66;03m# Parallel loop: we prefer the threading backend as the Cython code\u001b[39;00m\n\u001b[0;32m    484\u001b[0m \u001b[38;5;66;03m# for fitting the trees is internally releasing the Python GIL\u001b[39;00m\n\u001b[0;32m    485\u001b[0m \u001b[38;5;66;03m# making threading more efficient than multiprocessing in\u001b[39;00m\n\u001b[0;32m    486\u001b[0m \u001b[38;5;66;03m# that case. However, for joblib 0.12+ we respect any\u001b[39;00m\n\u001b[0;32m    487\u001b[0m \u001b[38;5;66;03m# parallel_backend contexts set at a higher level,\u001b[39;00m\n\u001b[0;32m    488\u001b[0m \u001b[38;5;66;03m# since correctness does not rely on using threads.\u001b[39;00m\n\u001b[1;32m--> 489\u001b[0m trees \u001b[38;5;241m=\u001b[39m \u001b[43mParallel\u001b[49m\u001b[43m(\u001b[49m\n\u001b[0;32m    490\u001b[0m \u001b[43m    \u001b[49m\u001b[43mn_jobs\u001b[49m\u001b[38;5;241;43m=\u001b[39;49m\u001b[38;5;28;43mself\u001b[39;49m\u001b[38;5;241;43m.\u001b[39;49m\u001b[43mn_jobs\u001b[49m\u001b[43m,\u001b[49m\n\u001b[0;32m    491\u001b[0m \u001b[43m    \u001b[49m\u001b[43mverbose\u001b[49m\u001b[38;5;241;43m=\u001b[39;49m\u001b[38;5;28;43mself\u001b[39;49m\u001b[38;5;241;43m.\u001b[39;49m\u001b[43mverbose\u001b[49m\u001b[43m,\u001b[49m\n\u001b[0;32m    492\u001b[0m \u001b[43m    \u001b[49m\u001b[43mprefer\u001b[49m\u001b[38;5;241;43m=\u001b[39;49m\u001b[38;5;124;43m\"\u001b[39;49m\u001b[38;5;124;43mthreads\u001b[39;49m\u001b[38;5;124;43m\"\u001b[39;49m\u001b[43m,\u001b[49m\n\u001b[0;32m    493\u001b[0m \u001b[43m\u001b[49m\u001b[43m)\u001b[49m\u001b[43m(\u001b[49m\n\u001b[0;32m    494\u001b[0m \u001b[43m    \u001b[49m\u001b[43mdelayed\u001b[49m\u001b[43m(\u001b[49m\u001b[43m_parallel_build_trees\u001b[49m\u001b[43m)\u001b[49m\u001b[43m(\u001b[49m\n\u001b[0;32m    495\u001b[0m \u001b[43m        \u001b[49m\u001b[43mt\u001b[49m\u001b[43m,\u001b[49m\n\u001b[0;32m    496\u001b[0m \u001b[43m        \u001b[49m\u001b[38;5;28;43mself\u001b[39;49m\u001b[38;5;241;43m.\u001b[39;49m\u001b[43mbootstrap\u001b[49m\u001b[43m,\u001b[49m\n\u001b[0;32m    497\u001b[0m \u001b[43m        \u001b[49m\u001b[43mX\u001b[49m\u001b[43m,\u001b[49m\n\u001b[0;32m    498\u001b[0m \u001b[43m        \u001b[49m\u001b[43my\u001b[49m\u001b[43m,\u001b[49m\n\u001b[0;32m    499\u001b[0m \u001b[43m        \u001b[49m\u001b[43msample_weight\u001b[49m\u001b[43m,\u001b[49m\n\u001b[0;32m    500\u001b[0m \u001b[43m        \u001b[49m\u001b[43mi\u001b[49m\u001b[43m,\u001b[49m\n\u001b[0;32m    501\u001b[0m \u001b[43m        \u001b[49m\u001b[38;5;28;43mlen\u001b[39;49m\u001b[43m(\u001b[49m\u001b[43mtrees\u001b[49m\u001b[43m)\u001b[49m\u001b[43m,\u001b[49m\n\u001b[0;32m    502\u001b[0m \u001b[43m        \u001b[49m\u001b[43mverbose\u001b[49m\u001b[38;5;241;43m=\u001b[39;49m\u001b[38;5;28;43mself\u001b[39;49m\u001b[38;5;241;43m.\u001b[39;49m\u001b[43mverbose\u001b[49m\u001b[43m,\u001b[49m\n\u001b[0;32m    503\u001b[0m \u001b[43m        \u001b[49m\u001b[43mclass_weight\u001b[49m\u001b[38;5;241;43m=\u001b[39;49m\u001b[38;5;28;43mself\u001b[39;49m\u001b[38;5;241;43m.\u001b[39;49m\u001b[43mclass_weight\u001b[49m\u001b[43m,\u001b[49m\n\u001b[0;32m    504\u001b[0m \u001b[43m        \u001b[49m\u001b[43mn_samples_bootstrap\u001b[49m\u001b[38;5;241;43m=\u001b[39;49m\u001b[43mn_samples_bootstrap\u001b[49m\u001b[43m,\u001b[49m\n\u001b[0;32m    505\u001b[0m \u001b[43m        \u001b[49m\u001b[43mmissing_values_in_feature_mask\u001b[49m\u001b[38;5;241;43m=\u001b[39;49m\u001b[43mmissing_values_in_feature_mask\u001b[49m\u001b[43m,\u001b[49m\n\u001b[0;32m    506\u001b[0m \u001b[43m    \u001b[49m\u001b[43m)\u001b[49m\n\u001b[0;32m    507\u001b[0m \u001b[43m    \u001b[49m\u001b[38;5;28;43;01mfor\u001b[39;49;00m\u001b[43m \u001b[49m\u001b[43mi\u001b[49m\u001b[43m,\u001b[49m\u001b[43m \u001b[49m\u001b[43mt\u001b[49m\u001b[43m \u001b[49m\u001b[38;5;129;43;01min\u001b[39;49;00m\u001b[43m \u001b[49m\u001b[38;5;28;43menumerate\u001b[39;49m\u001b[43m(\u001b[49m\u001b[43mtrees\u001b[49m\u001b[43m)\u001b[49m\n\u001b[0;32m    508\u001b[0m \u001b[43m\u001b[49m\u001b[43m)\u001b[49m\n\u001b[0;32m    510\u001b[0m \u001b[38;5;66;03m# Collect newly grown trees\u001b[39;00m\n\u001b[0;32m    511\u001b[0m \u001b[38;5;28mself\u001b[39m\u001b[38;5;241m.\u001b[39mestimators_\u001b[38;5;241m.\u001b[39mextend(trees)\n",
            "File \u001b[1;32mc:\\Users\\HP\\OneDrive\\Documents\\GitHub\\5CCSAMLF-CW_1\\.venv\\lib\\site-packages\\sklearn\\utils\\parallel.py:74\u001b[0m, in \u001b[0;36mParallel.__call__\u001b[1;34m(self, iterable)\u001b[0m\n\u001b[0;32m     69\u001b[0m config \u001b[38;5;241m=\u001b[39m get_config()\n\u001b[0;32m     70\u001b[0m iterable_with_config \u001b[38;5;241m=\u001b[39m (\n\u001b[0;32m     71\u001b[0m     (_with_config(delayed_func, config), args, kwargs)\n\u001b[0;32m     72\u001b[0m     \u001b[38;5;28;01mfor\u001b[39;00m delayed_func, args, kwargs \u001b[38;5;129;01min\u001b[39;00m iterable\n\u001b[0;32m     73\u001b[0m )\n\u001b[1;32m---> 74\u001b[0m \u001b[38;5;28;01mreturn\u001b[39;00m \u001b[38;5;28;43msuper\u001b[39;49m\u001b[43m(\u001b[49m\u001b[43m)\u001b[49m\u001b[38;5;241;43m.\u001b[39;49m\u001b[38;5;21;43m__call__\u001b[39;49m\u001b[43m(\u001b[49m\u001b[43miterable_with_config\u001b[49m\u001b[43m)\u001b[49m\n",
            "File \u001b[1;32mc:\\Users\\HP\\OneDrive\\Documents\\GitHub\\5CCSAMLF-CW_1\\.venv\\lib\\site-packages\\joblib\\parallel.py:1918\u001b[0m, in \u001b[0;36mParallel.__call__\u001b[1;34m(self, iterable)\u001b[0m\n\u001b[0;32m   1916\u001b[0m     output \u001b[38;5;241m=\u001b[39m \u001b[38;5;28mself\u001b[39m\u001b[38;5;241m.\u001b[39m_get_sequential_output(iterable)\n\u001b[0;32m   1917\u001b[0m     \u001b[38;5;28mnext\u001b[39m(output)\n\u001b[1;32m-> 1918\u001b[0m     \u001b[38;5;28;01mreturn\u001b[39;00m output \u001b[38;5;28;01mif\u001b[39;00m \u001b[38;5;28mself\u001b[39m\u001b[38;5;241m.\u001b[39mreturn_generator \u001b[38;5;28;01melse\u001b[39;00m \u001b[38;5;28;43mlist\u001b[39;49m\u001b[43m(\u001b[49m\u001b[43moutput\u001b[49m\u001b[43m)\u001b[49m\n\u001b[0;32m   1920\u001b[0m \u001b[38;5;66;03m# Let's create an ID that uniquely identifies the current call. If the\u001b[39;00m\n\u001b[0;32m   1921\u001b[0m \u001b[38;5;66;03m# call is interrupted early and that the same instance is immediately\u001b[39;00m\n\u001b[0;32m   1922\u001b[0m \u001b[38;5;66;03m# re-used, this id will be used to prevent workers that were\u001b[39;00m\n\u001b[0;32m   1923\u001b[0m \u001b[38;5;66;03m# concurrently finalizing a task from the previous call to run the\u001b[39;00m\n\u001b[0;32m   1924\u001b[0m \u001b[38;5;66;03m# callback.\u001b[39;00m\n\u001b[0;32m   1925\u001b[0m \u001b[38;5;28;01mwith\u001b[39;00m \u001b[38;5;28mself\u001b[39m\u001b[38;5;241m.\u001b[39m_lock:\n",
            "File \u001b[1;32mc:\\Users\\HP\\OneDrive\\Documents\\GitHub\\5CCSAMLF-CW_1\\.venv\\lib\\site-packages\\joblib\\parallel.py:1847\u001b[0m, in \u001b[0;36mParallel._get_sequential_output\u001b[1;34m(self, iterable)\u001b[0m\n\u001b[0;32m   1845\u001b[0m \u001b[38;5;28mself\u001b[39m\u001b[38;5;241m.\u001b[39mn_dispatched_batches \u001b[38;5;241m+\u001b[39m\u001b[38;5;241m=\u001b[39m \u001b[38;5;241m1\u001b[39m\n\u001b[0;32m   1846\u001b[0m \u001b[38;5;28mself\u001b[39m\u001b[38;5;241m.\u001b[39mn_dispatched_tasks \u001b[38;5;241m+\u001b[39m\u001b[38;5;241m=\u001b[39m \u001b[38;5;241m1\u001b[39m\n\u001b[1;32m-> 1847\u001b[0m res \u001b[38;5;241m=\u001b[39m func(\u001b[38;5;241m*\u001b[39margs, \u001b[38;5;241m*\u001b[39m\u001b[38;5;241m*\u001b[39mkwargs)\n\u001b[0;32m   1848\u001b[0m \u001b[38;5;28mself\u001b[39m\u001b[38;5;241m.\u001b[39mn_completed_tasks \u001b[38;5;241m+\u001b[39m\u001b[38;5;241m=\u001b[39m \u001b[38;5;241m1\u001b[39m\n\u001b[0;32m   1849\u001b[0m \u001b[38;5;28mself\u001b[39m\u001b[38;5;241m.\u001b[39mprint_progress()\n",
            "File \u001b[1;32mc:\\Users\\HP\\OneDrive\\Documents\\GitHub\\5CCSAMLF-CW_1\\.venv\\lib\\site-packages\\sklearn\\utils\\parallel.py:136\u001b[0m, in \u001b[0;36m_FuncWrapper.__call__\u001b[1;34m(self, *args, **kwargs)\u001b[0m\n\u001b[0;32m    134\u001b[0m     config \u001b[38;5;241m=\u001b[39m {}\n\u001b[0;32m    135\u001b[0m \u001b[38;5;28;01mwith\u001b[39;00m config_context(\u001b[38;5;241m*\u001b[39m\u001b[38;5;241m*\u001b[39mconfig):\n\u001b[1;32m--> 136\u001b[0m     \u001b[38;5;28;01mreturn\u001b[39;00m \u001b[38;5;28mself\u001b[39m\u001b[38;5;241m.\u001b[39mfunction(\u001b[38;5;241m*\u001b[39margs, \u001b[38;5;241m*\u001b[39m\u001b[38;5;241m*\u001b[39mkwargs)\n",
            "File \u001b[1;32mc:\\Users\\HP\\OneDrive\\Documents\\GitHub\\5CCSAMLF-CW_1\\.venv\\lib\\site-packages\\sklearn\\ensemble\\_forest.py:179\u001b[0m, in \u001b[0;36m_parallel_build_trees\u001b[1;34m(tree, bootstrap, X, y, sample_weight, tree_idx, n_trees, verbose, class_weight, n_samples_bootstrap, missing_values_in_feature_mask)\u001b[0m\n\u001b[0;32m    176\u001b[0m \u001b[38;5;28;01melse\u001b[39;00m:\n\u001b[0;32m    177\u001b[0m     curr_sample_weight \u001b[38;5;241m=\u001b[39m sample_weight\u001b[38;5;241m.\u001b[39mcopy()\n\u001b[1;32m--> 179\u001b[0m indices \u001b[38;5;241m=\u001b[39m \u001b[43m_generate_sample_indices\u001b[49m\u001b[43m(\u001b[49m\n\u001b[0;32m    180\u001b[0m \u001b[43m    \u001b[49m\u001b[43mtree\u001b[49m\u001b[38;5;241;43m.\u001b[39;49m\u001b[43mrandom_state\u001b[49m\u001b[43m,\u001b[49m\u001b[43m \u001b[49m\u001b[43mn_samples\u001b[49m\u001b[43m,\u001b[49m\u001b[43m \u001b[49m\u001b[43mn_samples_bootstrap\u001b[49m\n\u001b[0;32m    181\u001b[0m \u001b[43m\u001b[49m\u001b[43m)\u001b[49m\n\u001b[0;32m    182\u001b[0m sample_counts \u001b[38;5;241m=\u001b[39m np\u001b[38;5;241m.\u001b[39mbincount(indices, minlength\u001b[38;5;241m=\u001b[39mn_samples)\n\u001b[0;32m    183\u001b[0m curr_sample_weight \u001b[38;5;241m*\u001b[39m\u001b[38;5;241m=\u001b[39m sample_counts\n",
            "File \u001b[1;32mc:\\Users\\HP\\OneDrive\\Documents\\GitHub\\5CCSAMLF-CW_1\\.venv\\lib\\site-packages\\sklearn\\ensemble\\_forest.py:133\u001b[0m, in \u001b[0;36m_generate_sample_indices\u001b[1;34m(random_state, n_samples, n_samples_bootstrap)\u001b[0m\n\u001b[0;32m    129\u001b[0m \u001b[38;5;250m\u001b[39m\u001b[38;5;124;03m\"\"\"\u001b[39;00m\n\u001b[0;32m    130\u001b[0m \u001b[38;5;124;03mPrivate function used to _parallel_build_trees function.\"\"\"\u001b[39;00m\n\u001b[0;32m    132\u001b[0m random_instance \u001b[38;5;241m=\u001b[39m check_random_state(random_state)\n\u001b[1;32m--> 133\u001b[0m sample_indices \u001b[38;5;241m=\u001b[39m \u001b[43mrandom_instance\u001b[49m\u001b[38;5;241;43m.\u001b[39;49m\u001b[43mrandint\u001b[49m\u001b[43m(\u001b[49m\n\u001b[0;32m    134\u001b[0m \u001b[43m    \u001b[49m\u001b[38;5;241;43m0\u001b[39;49m\u001b[43m,\u001b[49m\u001b[43m \u001b[49m\u001b[43mn_samples\u001b[49m\u001b[43m,\u001b[49m\u001b[43m \u001b[49m\u001b[43mn_samples_bootstrap\u001b[49m\u001b[43m,\u001b[49m\u001b[43m \u001b[49m\u001b[43mdtype\u001b[49m\u001b[38;5;241;43m=\u001b[39;49m\u001b[43mnp\u001b[49m\u001b[38;5;241;43m.\u001b[39;49m\u001b[43mint32\u001b[49m\n\u001b[0;32m    135\u001b[0m \u001b[43m\u001b[49m\u001b[43m)\u001b[49m\n\u001b[0;32m    137\u001b[0m \u001b[38;5;28;01mreturn\u001b[39;00m sample_indices\n",
            "\u001b[1;31mKeyboardInterrupt\u001b[0m: "
          ]
        }
      ],
      "source": [
        "rf2_model = RandomForestRegressor(n_estimators=1000,random_state=42,min_samples_leaf=50,min_samples_split=10)\n",
        "rf2_model.fit(X_train,y_train)\n",
        "r2_score(y_test,rf2_model.predict(X_test))"
      ]
    },
    {
      "cell_type": "code",
      "execution_count": 202,
      "metadata": {},
      "outputs": [
        {
          "data": {
            "text/plain": [
              "0.4848193599375864"
            ]
          },
          "execution_count": 202,
          "metadata": {},
          "output_type": "execute_result"
        }
      ],
      "source": [
        "r2_score(y_test,model.predict(X_test))"
      ]
    },
    {
      "cell_type": "code",
      "execution_count": 38,
      "metadata": {},
      "outputs": [],
      "source": [
        "r_correlation = r_regression(X_train,y_train)"
      ]
    },
    {
      "cell_type": "code",
      "execution_count": 40,
      "metadata": {},
      "outputs": [],
      "source": [
        "pearson_score = {}\n",
        "k = 0\n",
        "for i in X_train.columns:\n",
        "    pearson_score[i] = r_correlation[k]\n",
        "    k = k+1\n",
        "\n",
        "sorted_pearson_score = dict(sorted(pearson_score.items(), key=lambda item: item[1],reverse=True))\n",
        "print(sorted_pearson_score)"
      ]
    },
    {
      "cell_type": "code",
      "execution_count": null,
      "metadata": {},
      "outputs": [
        {
          "name": "stderr",
          "output_type": "stream",
          "text": [
            "c:\\Users\\HP\\OneDrive\\Documents\\GitHub\\5CCSAMLF-CW_1\\.venv\\lib\\site-packages\\sklearn\\utils\\validation.py:2732: UserWarning: X has feature names, but SelectFromModel was fitted without feature names\n",
            "  warnings.warn(\n"
          ]
        },
        {
          "data": {
            "text/plain": [
              "array([[6.22000000e+01, 6.40119848e-01, 4.34296660e-01, 6.55030920e-01,\n",
              "        9.34767924e-01],\n",
              "       [6.19000000e+01, 3.81484625e-02, 3.39874888e-01, 7.97233889e-01,\n",
              "        3.73380316e-01],\n",
              "       [6.35000000e+01, 2.87913845e-01, 6.75811530e-01, 8.02844994e-01,\n",
              "        1.15257678e-01],\n",
              "       ...,\n",
              "       [6.19000000e+01, 7.87917652e-01, 1.69519018e-01, 2.47975235e-01,\n",
              "        5.26538940e-01],\n",
              "       [6.30000000e+01, 3.35944623e-01, 5.02361314e-01, 9.48243233e-01,\n",
              "        4.89768671e-01],\n",
              "       [6.27000000e+01, 9.20023200e-01, 3.64839345e-01, 2.06491323e-01,\n",
              "        8.62624634e-01]])"
            ]
          },
          "execution_count": 16,
          "metadata": {},
          "output_type": "execute_result"
        }
      ],
      "source": [
        "model = SelectFromModel(lr, prefit=True)\n",
        "X_new = model.transform(X_train)\n"
      ]
    },
    {
      "cell_type": "code",
      "execution_count": 21,
      "metadata": {},
      "outputs": [
        {
          "data": {
            "text/html": [
              "<style>#sk-container-id-2 {\n",
              "  /* Definition of color scheme common for light and dark mode */\n",
              "  --sklearn-color-text: #000;\n",
              "  --sklearn-color-text-muted: #666;\n",
              "  --sklearn-color-line: gray;\n",
              "  /* Definition of color scheme for unfitted estimators */\n",
              "  --sklearn-color-unfitted-level-0: #fff5e6;\n",
              "  --sklearn-color-unfitted-level-1: #f6e4d2;\n",
              "  --sklearn-color-unfitted-level-2: #ffe0b3;\n",
              "  --sklearn-color-unfitted-level-3: chocolate;\n",
              "  /* Definition of color scheme for fitted estimators */\n",
              "  --sklearn-color-fitted-level-0: #f0f8ff;\n",
              "  --sklearn-color-fitted-level-1: #d4ebff;\n",
              "  --sklearn-color-fitted-level-2: #b3dbfd;\n",
              "  --sklearn-color-fitted-level-3: cornflowerblue;\n",
              "\n",
              "  /* Specific color for light theme */\n",
              "  --sklearn-color-text-on-default-background: var(--sg-text-color, var(--theme-code-foreground, var(--jp-content-font-color1, black)));\n",
              "  --sklearn-color-background: var(--sg-background-color, var(--theme-background, var(--jp-layout-color0, white)));\n",
              "  --sklearn-color-border-box: var(--sg-text-color, var(--theme-code-foreground, var(--jp-content-font-color1, black)));\n",
              "  --sklearn-color-icon: #696969;\n",
              "\n",
              "  @media (prefers-color-scheme: dark) {\n",
              "    /* Redefinition of color scheme for dark theme */\n",
              "    --sklearn-color-text-on-default-background: var(--sg-text-color, var(--theme-code-foreground, var(--jp-content-font-color1, white)));\n",
              "    --sklearn-color-background: var(--sg-background-color, var(--theme-background, var(--jp-layout-color0, #111)));\n",
              "    --sklearn-color-border-box: var(--sg-text-color, var(--theme-code-foreground, var(--jp-content-font-color1, white)));\n",
              "    --sklearn-color-icon: #878787;\n",
              "  }\n",
              "}\n",
              "\n",
              "#sk-container-id-2 {\n",
              "  color: var(--sklearn-color-text);\n",
              "}\n",
              "\n",
              "#sk-container-id-2 pre {\n",
              "  padding: 0;\n",
              "}\n",
              "\n",
              "#sk-container-id-2 input.sk-hidden--visually {\n",
              "  border: 0;\n",
              "  clip: rect(1px 1px 1px 1px);\n",
              "  clip: rect(1px, 1px, 1px, 1px);\n",
              "  height: 1px;\n",
              "  margin: -1px;\n",
              "  overflow: hidden;\n",
              "  padding: 0;\n",
              "  position: absolute;\n",
              "  width: 1px;\n",
              "}\n",
              "\n",
              "#sk-container-id-2 div.sk-dashed-wrapped {\n",
              "  border: 1px dashed var(--sklearn-color-line);\n",
              "  margin: 0 0.4em 0.5em 0.4em;\n",
              "  box-sizing: border-box;\n",
              "  padding-bottom: 0.4em;\n",
              "  background-color: var(--sklearn-color-background);\n",
              "}\n",
              "\n",
              "#sk-container-id-2 div.sk-container {\n",
              "  /* jupyter's `normalize.less` sets `[hidden] { display: none; }`\n",
              "     but bootstrap.min.css set `[hidden] { display: none !important; }`\n",
              "     so we also need the `!important` here to be able to override the\n",
              "     default hidden behavior on the sphinx rendered scikit-learn.org.\n",
              "     See: https://github.com/scikit-learn/scikit-learn/issues/21755 */\n",
              "  display: inline-block !important;\n",
              "  position: relative;\n",
              "}\n",
              "\n",
              "#sk-container-id-2 div.sk-text-repr-fallback {\n",
              "  display: none;\n",
              "}\n",
              "\n",
              "div.sk-parallel-item,\n",
              "div.sk-serial,\n",
              "div.sk-item {\n",
              "  /* draw centered vertical line to link estimators */\n",
              "  background-image: linear-gradient(var(--sklearn-color-text-on-default-background), var(--sklearn-color-text-on-default-background));\n",
              "  background-size: 2px 100%;\n",
              "  background-repeat: no-repeat;\n",
              "  background-position: center center;\n",
              "}\n",
              "\n",
              "/* Parallel-specific style estimator block */\n",
              "\n",
              "#sk-container-id-2 div.sk-parallel-item::after {\n",
              "  content: \"\";\n",
              "  width: 100%;\n",
              "  border-bottom: 2px solid var(--sklearn-color-text-on-default-background);\n",
              "  flex-grow: 1;\n",
              "}\n",
              "\n",
              "#sk-container-id-2 div.sk-parallel {\n",
              "  display: flex;\n",
              "  align-items: stretch;\n",
              "  justify-content: center;\n",
              "  background-color: var(--sklearn-color-background);\n",
              "  position: relative;\n",
              "}\n",
              "\n",
              "#sk-container-id-2 div.sk-parallel-item {\n",
              "  display: flex;\n",
              "  flex-direction: column;\n",
              "}\n",
              "\n",
              "#sk-container-id-2 div.sk-parallel-item:first-child::after {\n",
              "  align-self: flex-end;\n",
              "  width: 50%;\n",
              "}\n",
              "\n",
              "#sk-container-id-2 div.sk-parallel-item:last-child::after {\n",
              "  align-self: flex-start;\n",
              "  width: 50%;\n",
              "}\n",
              "\n",
              "#sk-container-id-2 div.sk-parallel-item:only-child::after {\n",
              "  width: 0;\n",
              "}\n",
              "\n",
              "/* Serial-specific style estimator block */\n",
              "\n",
              "#sk-container-id-2 div.sk-serial {\n",
              "  display: flex;\n",
              "  flex-direction: column;\n",
              "  align-items: center;\n",
              "  background-color: var(--sklearn-color-background);\n",
              "  padding-right: 1em;\n",
              "  padding-left: 1em;\n",
              "}\n",
              "\n",
              "\n",
              "/* Toggleable style: style used for estimator/Pipeline/ColumnTransformer box that is\n",
              "clickable and can be expanded/collapsed.\n",
              "- Pipeline and ColumnTransformer use this feature and define the default style\n",
              "- Estimators will overwrite some part of the style using the `sk-estimator` class\n",
              "*/\n",
              "\n",
              "/* Pipeline and ColumnTransformer style (default) */\n",
              "\n",
              "#sk-container-id-2 div.sk-toggleable {\n",
              "  /* Default theme specific background. It is overwritten whether we have a\n",
              "  specific estimator or a Pipeline/ColumnTransformer */\n",
              "  background-color: var(--sklearn-color-background);\n",
              "}\n",
              "\n",
              "/* Toggleable label */\n",
              "#sk-container-id-2 label.sk-toggleable__label {\n",
              "  cursor: pointer;\n",
              "  display: flex;\n",
              "  width: 100%;\n",
              "  margin-bottom: 0;\n",
              "  padding: 0.5em;\n",
              "  box-sizing: border-box;\n",
              "  text-align: center;\n",
              "  align-items: start;\n",
              "  justify-content: space-between;\n",
              "  gap: 0.5em;\n",
              "}\n",
              "\n",
              "#sk-container-id-2 label.sk-toggleable__label .caption {\n",
              "  font-size: 0.6rem;\n",
              "  font-weight: lighter;\n",
              "  color: var(--sklearn-color-text-muted);\n",
              "}\n",
              "\n",
              "#sk-container-id-2 label.sk-toggleable__label-arrow:before {\n",
              "  /* Arrow on the left of the label */\n",
              "  content: \"▸\";\n",
              "  float: left;\n",
              "  margin-right: 0.25em;\n",
              "  color: var(--sklearn-color-icon);\n",
              "}\n",
              "\n",
              "#sk-container-id-2 label.sk-toggleable__label-arrow:hover:before {\n",
              "  color: var(--sklearn-color-text);\n",
              "}\n",
              "\n",
              "/* Toggleable content - dropdown */\n",
              "\n",
              "#sk-container-id-2 div.sk-toggleable__content {\n",
              "  max-height: 0;\n",
              "  max-width: 0;\n",
              "  overflow: hidden;\n",
              "  text-align: left;\n",
              "  /* unfitted */\n",
              "  background-color: var(--sklearn-color-unfitted-level-0);\n",
              "}\n",
              "\n",
              "#sk-container-id-2 div.sk-toggleable__content.fitted {\n",
              "  /* fitted */\n",
              "  background-color: var(--sklearn-color-fitted-level-0);\n",
              "}\n",
              "\n",
              "#sk-container-id-2 div.sk-toggleable__content pre {\n",
              "  margin: 0.2em;\n",
              "  border-radius: 0.25em;\n",
              "  color: var(--sklearn-color-text);\n",
              "  /* unfitted */\n",
              "  background-color: var(--sklearn-color-unfitted-level-0);\n",
              "}\n",
              "\n",
              "#sk-container-id-2 div.sk-toggleable__content.fitted pre {\n",
              "  /* unfitted */\n",
              "  background-color: var(--sklearn-color-fitted-level-0);\n",
              "}\n",
              "\n",
              "#sk-container-id-2 input.sk-toggleable__control:checked~div.sk-toggleable__content {\n",
              "  /* Expand drop-down */\n",
              "  max-height: 200px;\n",
              "  max-width: 100%;\n",
              "  overflow: auto;\n",
              "}\n",
              "\n",
              "#sk-container-id-2 input.sk-toggleable__control:checked~label.sk-toggleable__label-arrow:before {\n",
              "  content: \"▾\";\n",
              "}\n",
              "\n",
              "/* Pipeline/ColumnTransformer-specific style */\n",
              "\n",
              "#sk-container-id-2 div.sk-label input.sk-toggleable__control:checked~label.sk-toggleable__label {\n",
              "  color: var(--sklearn-color-text);\n",
              "  background-color: var(--sklearn-color-unfitted-level-2);\n",
              "}\n",
              "\n",
              "#sk-container-id-2 div.sk-label.fitted input.sk-toggleable__control:checked~label.sk-toggleable__label {\n",
              "  background-color: var(--sklearn-color-fitted-level-2);\n",
              "}\n",
              "\n",
              "/* Estimator-specific style */\n",
              "\n",
              "/* Colorize estimator box */\n",
              "#sk-container-id-2 div.sk-estimator input.sk-toggleable__control:checked~label.sk-toggleable__label {\n",
              "  /* unfitted */\n",
              "  background-color: var(--sklearn-color-unfitted-level-2);\n",
              "}\n",
              "\n",
              "#sk-container-id-2 div.sk-estimator.fitted input.sk-toggleable__control:checked~label.sk-toggleable__label {\n",
              "  /* fitted */\n",
              "  background-color: var(--sklearn-color-fitted-level-2);\n",
              "}\n",
              "\n",
              "#sk-container-id-2 div.sk-label label.sk-toggleable__label,\n",
              "#sk-container-id-2 div.sk-label label {\n",
              "  /* The background is the default theme color */\n",
              "  color: var(--sklearn-color-text-on-default-background);\n",
              "}\n",
              "\n",
              "/* On hover, darken the color of the background */\n",
              "#sk-container-id-2 div.sk-label:hover label.sk-toggleable__label {\n",
              "  color: var(--sklearn-color-text);\n",
              "  background-color: var(--sklearn-color-unfitted-level-2);\n",
              "}\n",
              "\n",
              "/* Label box, darken color on hover, fitted */\n",
              "#sk-container-id-2 div.sk-label.fitted:hover label.sk-toggleable__label.fitted {\n",
              "  color: var(--sklearn-color-text);\n",
              "  background-color: var(--sklearn-color-fitted-level-2);\n",
              "}\n",
              "\n",
              "/* Estimator label */\n",
              "\n",
              "#sk-container-id-2 div.sk-label label {\n",
              "  font-family: monospace;\n",
              "  font-weight: bold;\n",
              "  display: inline-block;\n",
              "  line-height: 1.2em;\n",
              "}\n",
              "\n",
              "#sk-container-id-2 div.sk-label-container {\n",
              "  text-align: center;\n",
              "}\n",
              "\n",
              "/* Estimator-specific */\n",
              "#sk-container-id-2 div.sk-estimator {\n",
              "  font-family: monospace;\n",
              "  border: 1px dotted var(--sklearn-color-border-box);\n",
              "  border-radius: 0.25em;\n",
              "  box-sizing: border-box;\n",
              "  margin-bottom: 0.5em;\n",
              "  /* unfitted */\n",
              "  background-color: var(--sklearn-color-unfitted-level-0);\n",
              "}\n",
              "\n",
              "#sk-container-id-2 div.sk-estimator.fitted {\n",
              "  /* fitted */\n",
              "  background-color: var(--sklearn-color-fitted-level-0);\n",
              "}\n",
              "\n",
              "/* on hover */\n",
              "#sk-container-id-2 div.sk-estimator:hover {\n",
              "  /* unfitted */\n",
              "  background-color: var(--sklearn-color-unfitted-level-2);\n",
              "}\n",
              "\n",
              "#sk-container-id-2 div.sk-estimator.fitted:hover {\n",
              "  /* fitted */\n",
              "  background-color: var(--sklearn-color-fitted-level-2);\n",
              "}\n",
              "\n",
              "/* Specification for estimator info (e.g. \"i\" and \"?\") */\n",
              "\n",
              "/* Common style for \"i\" and \"?\" */\n",
              "\n",
              ".sk-estimator-doc-link,\n",
              "a:link.sk-estimator-doc-link,\n",
              "a:visited.sk-estimator-doc-link {\n",
              "  float: right;\n",
              "  font-size: smaller;\n",
              "  line-height: 1em;\n",
              "  font-family: monospace;\n",
              "  background-color: var(--sklearn-color-background);\n",
              "  border-radius: 1em;\n",
              "  height: 1em;\n",
              "  width: 1em;\n",
              "  text-decoration: none !important;\n",
              "  margin-left: 0.5em;\n",
              "  text-align: center;\n",
              "  /* unfitted */\n",
              "  border: var(--sklearn-color-unfitted-level-1) 1pt solid;\n",
              "  color: var(--sklearn-color-unfitted-level-1);\n",
              "}\n",
              "\n",
              ".sk-estimator-doc-link.fitted,\n",
              "a:link.sk-estimator-doc-link.fitted,\n",
              "a:visited.sk-estimator-doc-link.fitted {\n",
              "  /* fitted */\n",
              "  border: var(--sklearn-color-fitted-level-1) 1pt solid;\n",
              "  color: var(--sklearn-color-fitted-level-1);\n",
              "}\n",
              "\n",
              "/* On hover */\n",
              "div.sk-estimator:hover .sk-estimator-doc-link:hover,\n",
              ".sk-estimator-doc-link:hover,\n",
              "div.sk-label-container:hover .sk-estimator-doc-link:hover,\n",
              ".sk-estimator-doc-link:hover {\n",
              "  /* unfitted */\n",
              "  background-color: var(--sklearn-color-unfitted-level-3);\n",
              "  color: var(--sklearn-color-background);\n",
              "  text-decoration: none;\n",
              "}\n",
              "\n",
              "div.sk-estimator.fitted:hover .sk-estimator-doc-link.fitted:hover,\n",
              ".sk-estimator-doc-link.fitted:hover,\n",
              "div.sk-label-container:hover .sk-estimator-doc-link.fitted:hover,\n",
              ".sk-estimator-doc-link.fitted:hover {\n",
              "  /* fitted */\n",
              "  background-color: var(--sklearn-color-fitted-level-3);\n",
              "  color: var(--sklearn-color-background);\n",
              "  text-decoration: none;\n",
              "}\n",
              "\n",
              "/* Span, style for the box shown on hovering the info icon */\n",
              ".sk-estimator-doc-link span {\n",
              "  display: none;\n",
              "  z-index: 9999;\n",
              "  position: relative;\n",
              "  font-weight: normal;\n",
              "  right: .2ex;\n",
              "  padding: .5ex;\n",
              "  margin: .5ex;\n",
              "  width: min-content;\n",
              "  min-width: 20ex;\n",
              "  max-width: 50ex;\n",
              "  color: var(--sklearn-color-text);\n",
              "  box-shadow: 2pt 2pt 4pt #999;\n",
              "  /* unfitted */\n",
              "  background: var(--sklearn-color-unfitted-level-0);\n",
              "  border: .5pt solid var(--sklearn-color-unfitted-level-3);\n",
              "}\n",
              "\n",
              ".sk-estimator-doc-link.fitted span {\n",
              "  /* fitted */\n",
              "  background: var(--sklearn-color-fitted-level-0);\n",
              "  border: var(--sklearn-color-fitted-level-3);\n",
              "}\n",
              "\n",
              ".sk-estimator-doc-link:hover span {\n",
              "  display: block;\n",
              "}\n",
              "\n",
              "/* \"?\"-specific style due to the `<a>` HTML tag */\n",
              "\n",
              "#sk-container-id-2 a.estimator_doc_link {\n",
              "  float: right;\n",
              "  font-size: 1rem;\n",
              "  line-height: 1em;\n",
              "  font-family: monospace;\n",
              "  background-color: var(--sklearn-color-background);\n",
              "  border-radius: 1rem;\n",
              "  height: 1rem;\n",
              "  width: 1rem;\n",
              "  text-decoration: none;\n",
              "  /* unfitted */\n",
              "  color: var(--sklearn-color-unfitted-level-1);\n",
              "  border: var(--sklearn-color-unfitted-level-1) 1pt solid;\n",
              "}\n",
              "\n",
              "#sk-container-id-2 a.estimator_doc_link.fitted {\n",
              "  /* fitted */\n",
              "  border: var(--sklearn-color-fitted-level-1) 1pt solid;\n",
              "  color: var(--sklearn-color-fitted-level-1);\n",
              "}\n",
              "\n",
              "/* On hover */\n",
              "#sk-container-id-2 a.estimator_doc_link:hover {\n",
              "  /* unfitted */\n",
              "  background-color: var(--sklearn-color-unfitted-level-3);\n",
              "  color: var(--sklearn-color-background);\n",
              "  text-decoration: none;\n",
              "}\n",
              "\n",
              "#sk-container-id-2 a.estimator_doc_link.fitted:hover {\n",
              "  /* fitted */\n",
              "  background-color: var(--sklearn-color-fitted-level-3);\n",
              "}\n",
              "</style><div id=\"sk-container-id-2\" class=\"sk-top-container\"><div class=\"sk-text-repr-fallback\"><pre>RandomForestRegressor()</pre><b>In a Jupyter environment, please rerun this cell to show the HTML representation or trust the notebook. <br />On GitHub, the HTML representation is unable to render, please try loading this page with nbviewer.org.</b></div><div class=\"sk-container\" hidden><div class=\"sk-item\"><div class=\"sk-estimator fitted sk-toggleable\"><input class=\"sk-toggleable__control sk-hidden--visually\" id=\"sk-estimator-id-2\" type=\"checkbox\" checked><label for=\"sk-estimator-id-2\" class=\"sk-toggleable__label fitted sk-toggleable__label-arrow\"><div><div>RandomForestRegressor</div></div><div><a class=\"sk-estimator-doc-link fitted\" rel=\"noreferrer\" target=\"_blank\" href=\"https://scikit-learn.org/1.6/modules/generated/sklearn.ensemble.RandomForestRegressor.html\">?<span>Documentation for RandomForestRegressor</span></a><span class=\"sk-estimator-doc-link fitted\">i<span>Fitted</span></span></div></label><div class=\"sk-toggleable__content fitted\"><pre>RandomForestRegressor()</pre></div> </div></div></div></div>"
            ],
            "text/plain": [
              "RandomForestRegressor()"
            ]
          },
          "execution_count": 21,
          "metadata": {},
          "output_type": "execute_result"
        }
      ],
      "source": []
    }
  ],
  "metadata": {
    "colab": {
      "authorship_tag": "ABX9TyPxgp1bYx1Yqzwr5P4AiL6f",
      "include_colab_link": true,
      "provenance": []
    },
    "kernelspec": {
      "display_name": ".venv",
      "language": "python",
      "name": "python3"
    },
    "language_info": {
      "codemirror_mode": {
        "name": "ipython",
        "version": 3
      },
      "file_extension": ".py",
      "mimetype": "text/x-python",
      "name": "python",
      "nbconvert_exporter": "python",
      "pygments_lexer": "ipython3",
      "version": "3.9.13"
    }
  },
  "nbformat": 4,
  "nbformat_minor": 0
}
